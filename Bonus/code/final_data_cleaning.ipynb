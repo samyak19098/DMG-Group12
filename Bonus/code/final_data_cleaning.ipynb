{
 "cells": [
  {
   "cell_type": "code",
   "execution_count": 41,
   "metadata": {},
   "outputs": [
    {
     "name": "stderr",
     "output_type": "stream",
     "text": [
      "[nltk_data] Downloading package vader_lexicon to\n",
      "[nltk_data]     C:\\Users\\samyj\\AppData\\Roaming\\nltk_data...\n",
      "[nltk_data]   Package vader_lexicon is already up-to-date!\n"
     ]
    }
   ],
   "source": [
    "import pandas as pd\n",
    "import numpy as np\n",
    "from ast import literal_eval\n",
    "import matplotlib.pyplot as plt\n",
    "from scipy.stats import pearsonr\n",
    "import nltk\n",
    "nltk.downloader.download('vader_lexicon')\n",
    "from nltk.sentiment.vader import SentimentIntensityAnalyzer\n",
    "from datetime import datetime"
   ]
  },
  {
   "cell_type": "code",
   "execution_count": 42,
   "metadata": {},
   "outputs": [],
   "source": [
    "docs = ['ayurveda', 'cardiologist', 'dentist', 'dermatologist', 'ent', 'gastroentreologist', 'gyanecologist-obstetrecian', 'homoeopath', 'implantologist', 'neurologist', 'ophthalmologist', 'pediatric-dentist', 'urologist']\n",
    "specialization_mapping = {docs[i]:i for i in range(len(docs))}"
   ]
  },
  {
   "cell_type": "code",
   "execution_count": 43,
   "metadata": {},
   "outputs": [],
   "source": [
    "ayurveda_data = pd.read_csv(\"../Data_final/ayurveda_new.csv\", converters={'feedbacks': literal_eval})\n",
    "cardiologist_data = pd.read_csv(\"../Data_final/cardiologist_new.csv\", converters={'feedbacks': literal_eval})\n",
    "dentist_data = pd.read_csv(\"../Data_final/dentist_new.csv\", converters={'feedbacks': literal_eval})\n",
    "dermatologist_data = pd.read_csv(\"../Data_final/dermatologist_new.csv\", converters={'feedbacks': literal_eval})\n",
    "ent_data = pd.read_csv(\"../Data_final/ent_new.csv\", converters={'feedbacks': literal_eval})\n",
    "gastroentreologist_data = pd.read_csv(\"../Data_final/gastroenterologist_new.csv\", converters={'feedbacks': literal_eval})\n",
    "gyanecologist_obstetrecian_data = pd.read_csv(\"../Data_final/gynecologist-obstetrician_new.csv\", converters={'feedbacks': literal_eval})\n",
    "homoeopath_data = pd.read_csv(\"../Data_final/homoeopath_new.csv\", converters={'feedbacks': literal_eval})\n",
    "implantologist_data = pd.read_csv(\"../Data_final/implantologist_new.csv\", converters={'feedbacks': literal_eval})\n",
    "neurologist_data = pd.read_csv(\"../Data_final/neurologist_new.csv\", converters={'feedbacks': literal_eval})\n",
    "ophthalmologist_data = pd.read_csv(\"../Data_final/ophthalmologist_new.csv\", converters={'feedbacks': literal_eval})\n",
    "pediatric_dentist_data = pd.read_csv(\"../Data_final/pediatric-dentist_new.csv\", converters={'feedbacks': literal_eval})\n",
    "urologist_data = pd.read_csv(\"../Data_final/urologist_new.csv\", converters={'feedbacks': literal_eval})\n",
    "\n",
    "domain_to_df = {\n",
    "    'ayurveda': ayurveda_data,\n",
    "    'cardiologist': cardiologist_data,\n",
    "    'dentist': dentist_data,\n",
    "    'dermatologist': dermatologist_data,\n",
    "    'ent': ent_data,\n",
    "    'gastroentreologist': gastroentreologist_data,\n",
    "    'gyanecologist-obstetrecian': gyanecologist_obstetrecian_data,\n",
    "    'homoeopath': homoeopath_data,\n",
    "    'implantologist': implantologist_data,\n",
    "    'neurologist': neurologist_data,\n",
    "    'ophthalmologist': ophthalmologist_data,\n",
    "    'pediatric-dentist': pediatric_dentist_data,\n",
    "    'urologist': urologist_data\n",
    "}\n",
    "\n",
    "domain_to_cleaned_df = {}"
   ]
  },
  {
   "cell_type": "code",
   "execution_count": 44,
   "metadata": {},
   "outputs": [],
   "source": [
    "def convert_fees(fee_str):\n",
    "    if(fee_str[0] == '₹'):\n",
    "        return fee_str[1:]\n",
    "\n",
    "def extract_exp(sp_cd):\n",
    "    sub1 = \"\\r\"\n",
    "    sub2 = \"Years\"\n",
    "    idx1 = sp_cd.index(sub1)\n",
    "    idx2 = sp_cd.index(sub2)\n",
    "    res = ''\n",
    "    # getting elements in between\n",
    "    for idx in range(idx1 + len(sub1) + 1, idx2):\n",
    "        res = res + sp_cd[idx]\n",
    "    # print(sp_cd[:idx1])\n",
    "    # print(\"hey\")\n",
    "    return int(float(res))\n",
    "\n",
    "def calculate_num_days(timing_days):\n",
    "    intervals = timing_days.split(',')\n",
    "    num_days = 0\n",
    "    for interval in intervals:\n",
    "        num_days += interval.count('-') + 1\n",
    "    return num_days\n",
    "\n",
    "def calculate_num_hours(timing_session):\n",
    "    intervals = timing_session.split('\\r\\n')\n",
    "    format = '%H:%M %p'\n",
    "    num_hours = 0\n",
    "    for interval in intervals:\n",
    "        l = interval.split(' - ')\n",
    "        start = datetime.strptime(l[0], format)\n",
    "        end = datetime.strptime(l[1], format)\n",
    "        duration = (end - start).total_seconds() / 3600.0\n",
    "        if(duration < 0):\n",
    "            duration = duration + 12\n",
    "        num_hours += duration\n",
    "    return num_hours\n",
    "\n",
    "def clean_review_score(review_score):\n",
    "    elements = review_score.split('% ')\n",
    "    score = int(elements[0]) / 100\n",
    "    votes_idx = elements[1].index('votes')\n",
    "    num_votes = int(elements[1][1:votes_idx])\n",
    "    return score, num_votes\n",
    "\n",
    "def clean_feedbacks(feedbacks):\n",
    "    overall_score_index_doc_list = []\n",
    "    overall_reviews_score_index_list = []\n",
    "    for reviews in feedbacks:\n",
    "        # print(reviews)\n",
    "        scores_index_list = []\n",
    "        for review in reviews:\n",
    "            sid = SentimentIntensityAnalyzer()\n",
    "            scores_dict = sid.polarity_scores(review)\n",
    "            scores = [scores_dict['neg'], scores_dict['pos']]\n",
    "            score_index = scores.index(max(scores))\n",
    "            scores_index_list.append(score_index)\n",
    "        max_score_index = max(set(scores_index_list), key = scores_index_list.count)\n",
    "        overall_reviews_score_index_list.append(scores_index_list)\n",
    "        overall_score_index_doc_list.append(max_score_index)\n",
    "    return overall_reviews_score_index_list, overall_score_index_doc_list\n",
    "\n",
    "def clean_domain_df(df, domain_num):\n",
    "    \n",
    "    rows_to_drop = []\n",
    "    for i in range(len(df)):\n",
    "        if(df.iloc[i]['feedbacks'] == []):\n",
    "            rows_to_drop.append(i)\n",
    "        \n",
    "    df.drop(rows_to_drop, axis=0, inplace=True)\n",
    "    \n",
    "    for column in list(df.columns):\n",
    "        if(column == 'current_url' or column == 'feedbacks'):\n",
    "            pass\n",
    "        else:\n",
    "            df[column].fillna(df[column].mode()[0], inplace=True)\n",
    "    \n",
    "    \n",
    "    \n",
    "    \n",
    "    df['consultation_fee'] = df['consultation_fee'].apply(lambda x: convert_fees(x))\n",
    "    df['num_days'] = df['timing_days'].apply(lambda x: calculate_num_days(x))\n",
    "    df['num_hours'] = df['timing_session'].apply(lambda x: calculate_num_hours(x))\n",
    "    \n",
    "    scores_list = []\n",
    "    num_votes_list = []\n",
    "    for i in range(len(df)):\n",
    "        doc_score, doc_votes = clean_review_score(df.iloc[i]['review_score'])\n",
    "        scores_list.append(doc_score)\n",
    "        num_votes_list.append(doc_votes)\n",
    "    df['score'] = scores_list\n",
    "    df['num_votes'] = num_votes_list\n",
    "    \n",
    "    exp_list = []\n",
    "    specialization = df['specialization']\n",
    "    for sp in specialization:\n",
    "        exp_val = extract_exp(sp)\n",
    "        exp_list.append(exp_val)\n",
    "    df['years_experience'] = exp_list\n",
    "    df['domain'] = [domain_num for i in range(len(df))]\n",
    "    \n",
    "    # print(df['feedbacks'])\n",
    "    overall_reviews_score_index_list, overall_score_index_doc_list = clean_feedbacks(list(df['feedbacks']))\n",
    "    df['reviews_score_index'] = overall_reviews_score_index_list\n",
    "    df['doc_review_score_index'] = overall_score_index_doc_list\n",
    "    \n",
    "    print(f\"Final Columns : {df.columns}\")\n",
    "    \n",
    "    df.drop(['specialization', 'timing_days', 'timing_session', 'review_score', 'Unnamed: 0'], axis=1, inplace=True)\n",
    "    \n",
    "    return df"
   ]
  },
  {
   "cell_type": "code",
   "execution_count": 45,
   "metadata": {},
   "outputs": [
    {
     "name": "stdout",
     "output_type": "stream",
     "text": [
      "Final Columns : Index(['Unnamed: 0', 'name', 'qualification', 'specialization',\n",
      "       'clinic_address', 'timing_days', 'timing_session', 'review_score',\n",
      "       'consultation_fee', 'current_url', 'feedbacks', 'num_days', 'num_hours',\n",
      "       'score', 'num_votes', 'years_experience', 'domain',\n",
      "       'reviews_score_index', 'doc_review_score_index'],\n",
      "      dtype='object')\n",
      "Final Columns : Index(['Unnamed: 0', 'name', 'qualification', 'specialization',\n",
      "       'clinic_address', 'timing_days', 'timing_session', 'review_score',\n",
      "       'consultation_fee', 'current_url', 'feedbacks', 'num_days', 'num_hours',\n",
      "       'score', 'num_votes', 'years_experience', 'domain',\n",
      "       'reviews_score_index', 'doc_review_score_index'],\n",
      "      dtype='object')\n",
      "Final Columns : Index(['Unnamed: 0', 'name', 'qualification', 'specialization',\n",
      "       'clinic_address', 'timing_days', 'timing_session', 'review_score',\n",
      "       'consultation_fee', 'current_url', 'feedbacks', 'num_days', 'num_hours',\n",
      "       'score', 'num_votes', 'years_experience', 'domain',\n",
      "       'reviews_score_index', 'doc_review_score_index'],\n",
      "      dtype='object')\n",
      "Final Columns : Index(['Unnamed: 0', 'name', 'qualification', 'specialization',\n",
      "       'clinic_address', 'timing_days', 'timing_session', 'review_score',\n",
      "       'consultation_fee', 'current_url', 'feedbacks', 'num_days', 'num_hours',\n",
      "       'score', 'num_votes', 'years_experience', 'domain',\n",
      "       'reviews_score_index', 'doc_review_score_index'],\n",
      "      dtype='object')\n",
      "Final Columns : Index(['Unnamed: 0', 'name', 'qualification', 'specialization',\n",
      "       'clinic_address', 'timing_days', 'timing_session', 'review_score',\n",
      "       'consultation_fee', 'current_url', 'feedbacks', 'num_days', 'num_hours',\n",
      "       'score', 'num_votes', 'years_experience', 'domain',\n",
      "       'reviews_score_index', 'doc_review_score_index'],\n",
      "      dtype='object')\n",
      "Final Columns : Index(['Unnamed: 0', 'name', 'qualification', 'specialization',\n",
      "       'clinic_address', 'timing_days', 'timing_session', 'review_score',\n",
      "       'consultation_fee', 'current_url', 'feedbacks', 'num_days', 'num_hours',\n",
      "       'score', 'num_votes', 'years_experience', 'domain',\n",
      "       'reviews_score_index', 'doc_review_score_index'],\n",
      "      dtype='object')\n",
      "Final Columns : Index(['Unnamed: 0', 'name', 'qualification', 'specialization',\n",
      "       'clinic_address', 'timing_days', 'timing_session', 'review_score',\n",
      "       'consultation_fee', 'current_url', 'feedbacks', 'num_days', 'num_hours',\n",
      "       'score', 'num_votes', 'years_experience', 'domain',\n",
      "       'reviews_score_index', 'doc_review_score_index'],\n",
      "      dtype='object')\n",
      "Final Columns : Index(['Unnamed: 0', 'name', 'qualification', 'specialization',\n",
      "       'clinic_address', 'timing_days', 'timing_session', 'review_score',\n",
      "       'consultation_fee', 'current_url', 'feedbacks', 'num_days', 'num_hours',\n",
      "       'score', 'num_votes', 'years_experience', 'domain',\n",
      "       'reviews_score_index', 'doc_review_score_index'],\n",
      "      dtype='object')\n",
      "Final Columns : Index(['Unnamed: 0', 'name', 'qualification', 'specialization',\n",
      "       'clinic_address', 'timing_days', 'timing_session', 'review_score',\n",
      "       'consultation_fee', 'current_url', 'feedbacks', 'num_days', 'num_hours',\n",
      "       'score', 'num_votes', 'years_experience', 'domain',\n",
      "       'reviews_score_index', 'doc_review_score_index'],\n",
      "      dtype='object')\n",
      "Final Columns : Index(['Unnamed: 0', 'name', 'qualification', 'specialization',\n",
      "       'clinic_address', 'timing_days', 'timing_session', 'review_score',\n",
      "       'consultation_fee', 'current_url', 'feedbacks', 'num_days', 'num_hours',\n",
      "       'score', 'num_votes', 'years_experience', 'domain',\n",
      "       'reviews_score_index', 'doc_review_score_index'],\n",
      "      dtype='object')\n",
      "Final Columns : Index(['Unnamed: 0', 'name', 'qualification', 'specialization',\n",
      "       'clinic_address', 'timing_days', 'timing_session', 'review_score',\n",
      "       'consultation_fee', 'current_url', 'feedbacks', 'num_days', 'num_hours',\n",
      "       'score', 'num_votes', 'years_experience', 'domain',\n",
      "       'reviews_score_index', 'doc_review_score_index'],\n",
      "      dtype='object')\n",
      "Final Columns : Index(['Unnamed: 0', 'name', 'qualification', 'specialization',\n",
      "       'clinic_address', 'timing_days', 'timing_session', 'review_score',\n",
      "       'consultation_fee', 'current_url', 'feedbacks', 'num_days', 'num_hours',\n",
      "       'score', 'num_votes', 'years_experience', 'domain',\n",
      "       'reviews_score_index', 'doc_review_score_index'],\n",
      "      dtype='object')\n",
      "Final Columns : Index(['Unnamed: 0', 'name', 'qualification', 'specialization',\n",
      "       'clinic_address', 'timing_days', 'timing_session', 'review_score',\n",
      "       'consultation_fee', 'current_url', 'feedbacks', 'num_days', 'num_hours',\n",
      "       'score', 'num_votes', 'years_experience', 'domain',\n",
      "       'reviews_score_index', 'doc_review_score_index'],\n",
      "      dtype='object')\n"
     ]
    }
   ],
   "source": [
    "domain_num = 1\n",
    "for domain in docs:\n",
    "    cleaned_df = clean_domain_df(domain_to_df[domain], domain_num)\n",
    "    domain_num += 1\n",
    "    domain_to_cleaned_df[domain] = cleaned_df"
   ]
  },
  {
   "cell_type": "code",
   "execution_count": 46,
   "metadata": {},
   "outputs": [],
   "source": [
    "final_data = pd.concat([domain_to_cleaned_df[dom] for dom in docs], axis=0)"
   ]
  },
  {
   "cell_type": "code",
   "execution_count": 47,
   "metadata": {},
   "outputs": [
    {
     "data": {
      "text/plain": [
       "Index(['name', 'qualification', 'clinic_address', 'consultation_fee',\n",
       "       'current_url', 'feedbacks', 'num_days', 'num_hours', 'score',\n",
       "       'num_votes', 'years_experience', 'domain', 'reviews_score_index',\n",
       "       'doc_review_score_index'],\n",
       "      dtype='object')"
      ]
     },
     "execution_count": 47,
     "metadata": {},
     "output_type": "execute_result"
    }
   ],
   "source": [
    "final_data.columns"
   ]
  },
  {
   "cell_type": "code",
   "execution_count": 48,
   "metadata": {},
   "outputs": [],
   "source": [
    "domain_dummies = pd.get_dummies(final_data.domain)\n",
    "final_data = pd.concat([final_data, domain_dummies], axis=1)"
   ]
  },
  {
   "cell_type": "code",
   "execution_count": 58,
   "metadata": {},
   "outputs": [],
   "source": [
    "for dom in docs:\n",
    "    domain_to_cleaned_df[dom].to_csv(f\"../Data_final/cleaned_data/domain_wise/{dom}.csv\", index=False)"
   ]
  },
  {
   "cell_type": "code",
   "execution_count": 59,
   "metadata": {},
   "outputs": [],
   "source": [
    "final_data.to_csv('../Data_final/cleaned_data/final_data.csv', index=False)"
   ]
  }
 ],
 "metadata": {
  "kernelspec": {
   "display_name": "Python 3.9.15 ('dmg_env')",
   "language": "python",
   "name": "python3"
  },
  "language_info": {
   "codemirror_mode": {
    "name": "ipython",
    "version": 3
   },
   "file_extension": ".py",
   "mimetype": "text/x-python",
   "name": "python",
   "nbconvert_exporter": "python",
   "pygments_lexer": "ipython3",
   "version": "3.9.15"
  },
  "orig_nbformat": 4,
  "vscode": {
   "interpreter": {
    "hash": "4d08b97d06102a064939c687c25073808f7d4d391e747c69bbf58a43891bd9e4"
   }
  }
 },
 "nbformat": 4,
 "nbformat_minor": 2
}
