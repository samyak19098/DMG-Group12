{
 "cells": [
  {
   "cell_type": "code",
   "execution_count": 1,
   "metadata": {},
   "outputs": [],
   "source": [
    "import pandas as pd\n",
    "from ast import literal_eval"
   ]
  },
  {
   "cell_type": "code",
   "execution_count": 17,
   "metadata": {},
   "outputs": [
    {
     "name": "stdout",
     "output_type": "stream",
     "text": [
      "(50, 11)\n",
      "No. 43/2, New Airport Road, NH.7, Hebbal, Sahakara Nagar, Landmark: Opposite Godrej Apartments, Bangalore\n"
     ]
    }
   ],
   "source": [
    "data = pd.read_csv('../Data_final/cardiologist_new.csv', converters={'feedbacks': literal_eval})\n",
    "print(data.shape)\n",
    "print(data['clinic_address'][15])"
   ]
  },
  {
   "cell_type": "code",
   "execution_count": 22,
   "metadata": {},
   "outputs": [
    {
     "name": "stdout",
     "output_type": "stream",
     "text": [
      "Hebbal, Hebbala Ward, East Zone, Bengaluru, Bangalore North, Bangalore Urban, Karnataka, 560024, India\n"
     ]
    }
   ],
   "source": [
    "from geopy.geocoders import Nominatim\n",
    "geolocator = Nominatim(user_agent='http')\n",
    "location = geolocator.geocode(\"Hebbal\")\n",
    "print(location.address)"
   ]
  }
 ],
 "metadata": {
  "kernelspec": {
   "display_name": "Python 3.9.7 ('computer_vision')",
   "language": "python",
   "name": "python3"
  },
  "language_info": {
   "codemirror_mode": {
    "name": "ipython",
    "version": 3
   },
   "file_extension": ".py",
   "mimetype": "text/x-python",
   "name": "python",
   "nbconvert_exporter": "python",
   "pygments_lexer": "ipython3",
   "version": "3.9.7"
  },
  "orig_nbformat": 4,
  "vscode": {
   "interpreter": {
    "hash": "85b1db67202a22c0164e18849e85225c385668d55f66b602110c77d4fc6f23f4"
   }
  }
 },
 "nbformat": 4,
 "nbformat_minor": 2
}
